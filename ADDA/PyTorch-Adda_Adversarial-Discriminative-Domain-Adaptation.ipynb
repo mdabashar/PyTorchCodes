{
 "cells": [
  {
   "cell_type": "markdown",
   "id": "b305f740",
   "metadata": {},
   "source": [
    "# PyTorch ADDA: Adversarial Discriminative Domain Adaptation\n",
    "\n",
    "Main script for ADDA"
   ]
  },
  {
   "cell_type": "code",
   "execution_count": null,
   "id": "356b04f3",
   "metadata": {},
   "outputs": [],
   "source": [
    "import params\n",
    "from core import eval_src, eval_tgt, train_src, train_tgt\n",
    "from models import Discriminator, LeNetClassifier, LeNetEncoder\n",
    "from utils import get_data_loader, init_model, init_random_seed"
   ]
  },
  {
   "cell_type": "code",
   "execution_count": null,
   "id": "71c5e712",
   "metadata": {},
   "outputs": [],
   "source": [
    "# optional\n",
    "%reload_ext autoreload\n",
    "%autoreload 2\n",
    "%matplotlib inline"
   ]
  },
  {
   "cell_type": "code",
   "execution_count": null,
   "id": "e73a5f47",
   "metadata": {},
   "outputs": [],
   "source": [
    "# init random seed\n",
    "init_random_seed(params.manual_seed)"
   ]
  },
  {
   "cell_type": "code",
   "execution_count": null,
   "id": "07275737",
   "metadata": {},
   "outputs": [],
   "source": [
    "# load dataset\n",
    "src_data_loader = get_data_loader(params.src_dataset)\n",
    "src_data_loader_eval = get_data_loader(params.src_dataset, train=False)\n",
    "tgt_data_loader = get_data_loader(params.tgt_dataset)\n",
    "tgt_data_loader_eval = get_data_loader(params.tgt_dataset, train=False)"
   ]
  },
  {
   "cell_type": "code",
   "execution_count": null,
   "id": "149a6100",
   "metadata": {},
   "outputs": [],
   "source": [
    "# load models\n",
    "src_encoder = init_model(net=LeNetEncoder(),\n",
    "                         restore=params.src_encoder_restore)\n",
    "src_classifier = init_model(net=LeNetClassifier(),\n",
    "                            restore=params.src_classifier_restore)\n",
    "tgt_encoder = init_model(net=LeNetEncoder(),\n",
    "                         restore=params.tgt_encoder_restore)\n",
    "critic = init_model(Discriminator(input_dims=params.d_input_dims,\n",
    "                                  hidden_dims=params.d_hidden_dims,\n",
    "                                  output_dims=params.d_output_dims),\n",
    "                    restore=params.d_model_restore)"
   ]
  },
  {
   "cell_type": "code",
   "execution_count": null,
   "id": "5fff87b6",
   "metadata": {},
   "outputs": [],
   "source": [
    "# train source model\n",
    "print(\"=== Training classifier for source domain ===\")\n",
    "print(\">>> Source Encoder <<<\")\n",
    "print(src_encoder)\n",
    "print(\">>> Source Classifier <<<\")\n",
    "print(src_classifier)"
   ]
  },
  {
   "cell_type": "code",
   "execution_count": null,
   "id": "08832fc4",
   "metadata": {},
   "outputs": [],
   "source": [
    "if not (src_encoder.restored and src_classifier.restored and params.src_model_trained):\n",
    "    src_encoder, src_classifier = train_src(src_encoder, src_classifier, src_data_loader)"
   ]
  },
  {
   "cell_type": "code",
   "execution_count": null,
   "id": "94fb6e6f",
   "metadata": {},
   "outputs": [],
   "source": [
    "# eval source model\n",
    "print(\"=== Evaluating classifier for source domain ===\")\n",
    "eval_src(src_encoder, src_classifier, src_data_loader_eval)"
   ]
  },
  {
   "cell_type": "code",
   "execution_count": null,
   "id": "7b1a12cd",
   "metadata": {},
   "outputs": [],
   "source": [
    "# train target encoder by GAN\n",
    "print(\"=== Training encoder for target domain ===\")\n",
    "print(\">>> Target Encoder <<<\")\n",
    "print(tgt_encoder)\n",
    "print(\">>> Critic <<<\")\n",
    "print(critic)"
   ]
  },
  {
   "cell_type": "code",
   "execution_count": null,
   "id": "d7f82fc1",
   "metadata": {},
   "outputs": [],
   "source": [
    "# init weights of target encoder with those of source encoder\n",
    "if not tgt_encoder.restored:\n",
    "    tgt_encoder.load_state_dict(src_encoder.state_dict())"
   ]
  },
  {
   "cell_type": "code",
   "execution_count": null,
   "id": "686979bf",
   "metadata": {},
   "outputs": [],
   "source": [
    "if not (tgt_encoder.restored and critic.restored and\n",
    "        params.tgt_model_trained):\n",
    "    tgt_encoder = train_tgt(src_encoder, tgt_encoder, critic,\n",
    "                            src_data_loader, tgt_data_loader)"
   ]
  },
  {
   "cell_type": "code",
   "execution_count": null,
   "id": "4b9a44bc",
   "metadata": {},
   "outputs": [],
   "source": [
    "# eval target encoder on test set of target dataset\n",
    "print(\"=== Evaluating classifier for encoded target domain ===\")\n",
    "print(\">>> source only <<<\")\n",
    "eval_tgt(src_encoder, src_classifier, tgt_data_loader_eval)\n",
    "print(\">>> domain adaption <<<\")\n",
    "eval_tgt(tgt_encoder, src_classifier, tgt_data_loader_eval)"
   ]
  },
  {
   "cell_type": "code",
   "execution_count": null,
   "id": "8cd2e230",
   "metadata": {},
   "outputs": [],
   "source": []
  },
  {
   "cell_type": "code",
   "execution_count": null,
   "id": "64a6987b",
   "metadata": {},
   "outputs": [],
   "source": []
  },
  {
   "cell_type": "code",
   "execution_count": null,
   "id": "25d2218f",
   "metadata": {},
   "outputs": [],
   "source": []
  },
  {
   "cell_type": "markdown",
   "id": "145cfe2b",
   "metadata": {},
   "source": [
    "Source: https://github.com/corenel/pytorch-adda"
   ]
  }
 ],
 "metadata": {
  "kernelspec": {
   "display_name": "Python 3",
   "language": "python",
   "name": "python3"
  },
  "language_info": {
   "codemirror_mode": {
    "name": "ipython",
    "version": 3
   },
   "file_extension": ".py",
   "mimetype": "text/x-python",
   "name": "python",
   "nbconvert_exporter": "python",
   "pygments_lexer": "ipython3",
   "version": "3.6.8"
  }
 },
 "nbformat": 4,
 "nbformat_minor": 5
}
