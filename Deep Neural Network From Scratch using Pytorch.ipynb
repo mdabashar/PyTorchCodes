{
 "cells": [
  {
   "cell_type": "markdown",
   "metadata": {},
   "source": [
    "# Deep Neural Network From Scratch using Pytorch"
   ]
  },
  {
   "cell_type": "code",
   "execution_count": 1,
   "metadata": {},
   "outputs": [],
   "source": [
    "import torch\n",
    "from torchvision.datasets import MNIST\n",
    "from torchvision.transforms import ToTensor\n",
    "import matplotlib.pyplot as plt"
   ]
  },
  {
   "cell_type": "code",
   "execution_count": 2,
   "metadata": {},
   "outputs": [],
   "source": [
    "def one_hot_enc(y, num_labels=10):\n",
    "    one_hot = torch.zeros(num_labels, y.shape[0])\n",
    "    \n",
    "    for i, val in enumerate(y):\n",
    "        one_hot[val, i] = 1.0\n",
    "        \n",
    "    return one_hot"
   ]
  },
  {
   "cell_type": "code",
   "execution_count": 3,
   "metadata": {},
   "outputs": [],
   "source": [
    "def add_bias_unit(layer, orientation):\n",
    "    if orientation=='row':\n",
    "        new_layer = torch.ones(layer.shape[0]+1, layer.shape[1])\n",
    "        new_layer[1:, :] = layer\n",
    "    elif orientation=='col':\n",
    "        new_layer = torch.ones(layer.shape[0], layer.shape[1]+1)\n",
    "        new_layer[:, 1:] = layer\n",
    "        \n",
    "    return new_layer"
   ]
  },
  {
   "cell_type": "code",
   "execution_count": 4,
   "metadata": {},
   "outputs": [],
   "source": [
    "def init_weights(n_input, n_hidden_1, n_hidden_2, n_output, batch_size):\n",
    "    w1 = torch.randn((n_hidden_1, n_input+1), dtype=torch.float)\n",
    "    w2 = torch.randn((n_hidden_2, n_hidden_1+1), dtype=torch.float)\n",
    "    w3 = torch.randn((n_output, n_hidden_2+1), dtype=torch.float)\n",
    "    \n",
    "    return w1, w2, w3"
   ]
  },
  {
   "cell_type": "code",
   "execution_count": 5,
   "metadata": {},
   "outputs": [],
   "source": [
    "def compute_forward_pass(input_, w1, w2, w3):\n",
    "    a1 = torch.reshape(input_, shape=(input_.shape[0], -1))\n",
    "    a1 = add_bias_unit(a1, orientation='col')\n",
    "    \n",
    "    z2 = w1.matmul(torch.transpose(a1, 0, 1))\n",
    "    a2 = torch.sigmoid(z2)\n",
    "    a2 = add_bias_unit(a2, orientation='row')\n",
    "    \n",
    "    z3 = w2.matmul(a2)\n",
    "    a3 = torch.sigmoid(z3)\n",
    "    a3 = add_bias_unit(a3, orientation='row')\n",
    "    \n",
    "    z4 = w3.matmul(a3)\n",
    "    a4 = torch.sigmoid(z4)\n",
    "    \n",
    "    return a1, z2, a2, z3, a3, z4, a4"
   ]
  },
  {
   "cell_type": "code",
   "execution_count": 6,
   "metadata": {},
   "outputs": [],
   "source": [
    "def predict(a4):\n",
    "    prediction = torch.argmax(a4, dim=0)\n",
    "    \n",
    "    return prediction"
   ]
  },
  {
   "cell_type": "code",
   "execution_count": 7,
   "metadata": {},
   "outputs": [],
   "source": [
    "def compute_loss(prediction, label):\n",
    "    term_1 = -1*label*torch.log(prediction)\n",
    "    term_2 = (1-label)*torch.log(1-prediction)\n",
    "    loss = torch.sum(term_1 - term_2)\n",
    "    \n",
    "    return loss"
   ]
  },
  {
   "cell_type": "code",
   "execution_count": 8,
   "metadata": {},
   "outputs": [],
   "source": [
    "# Reference for backpropagation: https://www.youtube.com/watch?v=tIeHLnjs5U8\n",
    "        \n",
    "def compute_backward_pass(weights, outputs, label):\n",
    "    w1, w2, w3 = weights\n",
    "    a1, z2, a2, z3, a3, z4, a4 = outputs\n",
    "    \n",
    "    delta_4 = a4 - label\n",
    "    delta_3 = torch.transpose(w3[:, 1:], 0, 1).matmul(delta_4)*\\\n",
    "                torch.sigmoid(z3)*(1-torch.sigmoid(z3))\n",
    "    delta_2 = w2[:, 1:].matmul(delta_3)*torch.sigmoid(z2)*(1-torch.sigmoid(z2))\n",
    "    \n",
    "    grad_w1 = delta_2.matmul(a1)\n",
    "    grad_w2 = delta_3.matmul(torch.transpose(a2, 0, 1))\n",
    "    grad_w3 = delta_4.matmul(torch.transpose(a3, 0, 1))\n",
    "    \n",
    "    return grad_w1, grad_w2, grad_w3         "
   ]
  },
  {
   "cell_type": "code",
   "execution_count": 9,
   "metadata": {},
   "outputs": [],
   "source": [
    "def get_data(train_batch_size, test_batch_size=10):\n",
    "    mnist_train_data = MNIST('mnist', train=True, download=True, transform = ToTensor())\n",
    "    train_data_loader = torch.utils.data.DataLoader(mnist_train_data, \n",
    "                                                    batch_size = train_batch_size, \n",
    "                                                    shuffle=True, \n",
    "                                                    num_workers=4)\n",
    "    mnist_test_data = MNIST('mnist', train=False, download=True, transform=ToTensor())\n",
    "    test_data_loader = torch.utils.data.DataLoader(mnist_test_data,\n",
    "                                                   batch_size = test_batch_size, \n",
    "                                                   shuffle=True,\n",
    "                                                   num_workers=4)\n",
    "    return train_data_loader, test_data_loader"
   ]
  },
  {
   "cell_type": "markdown",
   "metadata": {},
   "source": [
    "## Train the model"
   ]
  },
  {
   "cell_type": "code",
   "execution_count": 10,
   "metadata": {},
   "outputs": [
    {
     "name": "stdout",
     "output_type": "stream",
     "text": [
      "epoic 0 training accuracy 0.456967\n",
      "epoic 1 training accuracy 0.578108\n",
      "epoic 2 training accuracy 0.639717\n",
      "epoic 3 training accuracy 0.678187\n",
      "epoic 4 training accuracy 0.705436\n",
      "epoic 5 training accuracy 0.725969\n",
      "epoic 6 training accuracy 0.742378\n",
      "epoic 7 training accuracy 0.755904\n",
      "epoic 8 training accuracy 0.767273\n",
      "epoic 9 training accuracy 0.777055\n",
      "epoic 10 training accuracy 0.785650\n",
      "epoic 11 training accuracy 0.793221\n",
      "epoic 12 training accuracy 0.799977\n",
      "epoic 13 training accuracy 0.806108\n",
      "epoic 14 training accuracy 0.811718\n",
      "epoic 15 training accuracy 0.816867\n",
      "epoic 16 training accuracy 0.821574\n",
      "epoic 17 training accuracy 0.825951\n",
      "epoic 18 training accuracy 0.830034\n",
      "epoic 19 training accuracy 0.833805\n",
      "epoic 20 training accuracy 0.837298\n",
      "epoic 21 training accuracy 0.840605\n",
      "epoic 22 training accuracy 0.843682\n",
      "epoic 23 training accuracy 0.846598\n",
      "epoic 24 training accuracy 0.849342\n",
      "epoic 25 training accuracy 0.851949\n",
      "epoic 26 training accuracy 0.854400\n",
      "epoic 27 training accuracy 0.856725\n",
      "epoic 28 training accuracy 0.858965\n",
      "epoic 29 training accuracy 0.861082\n",
      "epoic 30 training accuracy 0.863114\n",
      "epoic 31 training accuracy 0.865060\n",
      "epoic 32 training accuracy 0.866916\n",
      "epoic 33 training accuracy 0.868707\n",
      "epoic 34 training accuracy 0.870430\n",
      "epoic 35 training accuracy 0.872096\n",
      "epoic 36 training accuracy 0.873672\n",
      "epoic 37 training accuracy 0.875196\n",
      "epoic 38 training accuracy 0.876671\n",
      "epoic 39 training accuracy 0.878088\n",
      "epoic 40 training accuracy 0.879450\n",
      "epoic 41 training accuracy 0.880773\n",
      "epoic 42 training accuracy 0.882052\n",
      "epoic 43 training accuracy 0.883298\n",
      "epoic 44 training accuracy 0.884493\n",
      "epoic 45 training accuracy 0.885661\n",
      "epoic 46 training accuracy 0.886784\n",
      "epoic 47 training accuracy 0.887875\n",
      "epoic 48 training accuracy 0.888936\n",
      "epoic 49 training accuracy 0.889970\n",
      "epoic 50 training accuracy 0.890970\n",
      "epoic 51 training accuracy 0.891940\n",
      "epoic 52 training accuracy 0.892886\n",
      "epoic 53 training accuracy 0.893815\n",
      "epoic 54 training accuracy 0.894716\n",
      "epoic 55 training accuracy 0.895593\n",
      "epoic 56 training accuracy 0.896449\n",
      "epoic 57 training accuracy 0.897288\n",
      "epoic 58 training accuracy 0.898109\n",
      "epoic 59 training accuracy 0.898914\n",
      "epoic 60 training accuracy 0.899695\n",
      "epoic 61 training accuracy 0.900457\n",
      "epoic 62 training accuracy 0.901207\n",
      "epoic 63 training accuracy 0.901938\n",
      "epoic 64 training accuracy 0.902651\n",
      "epoic 65 training accuracy 0.903344\n",
      "epoic 66 training accuracy 0.904024\n",
      "epoic 67 training accuracy 0.904694\n",
      "epoic 68 training accuracy 0.905352\n",
      "epoic 69 training accuracy 0.905995\n",
      "epoic 70 training accuracy 0.906625\n",
      "epoic 71 training accuracy 0.907244\n",
      "epoic 72 training accuracy 0.907854\n",
      "epoic 73 training accuracy 0.908451\n",
      "epoic 74 training accuracy 0.909037\n",
      "epoic 75 training accuracy 0.909611\n",
      "epoic 76 training accuracy 0.910175\n",
      "epoic 77 training accuracy 0.910736\n",
      "epoic 78 training accuracy 0.911284\n",
      "epoic 79 training accuracy 0.911822\n",
      "epoic 80 training accuracy 0.912351\n",
      "epoic 81 training accuracy 0.912871\n",
      "epoic 82 training accuracy 0.913383\n",
      "epoic 83 training accuracy 0.913889\n",
      "epoic 84 training accuracy 0.914385\n",
      "epoic 85 training accuracy 0.914875\n",
      "epoic 86 training accuracy 0.915357\n",
      "epoic 87 training accuracy 0.915833\n",
      "epoic 88 training accuracy 0.916302\n",
      "epoic 89 training accuracy 0.916760\n",
      "epoic 90 training accuracy 0.917211\n",
      "epoic 91 training accuracy 0.917661\n",
      "epoic 92 training accuracy 0.918102\n",
      "epoic 93 training accuracy 0.918537\n",
      "epoic 94 training accuracy 0.918968\n",
      "epoic 95 training accuracy 0.919391\n",
      "epoic 96 training accuracy 0.919811\n",
      "epoic 97 training accuracy 0.920223\n",
      "epoic 98 training accuracy 0.920630\n",
      "epoic 99 training accuracy 0.921032\n"
     ]
    }
   ],
   "source": [
    "batch_size = 50\n",
    "n_input = 28*28\n",
    "\n",
    "n_hidden_1, n_hidden_2, n_output = 100, 100, 10\n",
    "w1, w2, w3 = init_weights(n_input, n_hidden_1, n_hidden_2, n_output, batch_size)\n",
    "\n",
    "eta = 0.001 # learning rate\n",
    "alpha = 0.001 # momentum factor\n",
    "\n",
    "num_epochs = 100\n",
    "\n",
    "delta_w1_prev = torch.zeros(w1.shape)\n",
    "delta_w2_prev = torch.zeros(w2.shape)\n",
    "delta_w3_prev = torch.zeros(w3.shape)\n",
    "\n",
    "train_losses = []\n",
    "train_acc = []\n",
    "\n",
    "train_data, test_data = get_data(batch_size)\n",
    "\n",
    "for i in range(num_epochs):\n",
    "    for j, (input_, label) in enumerate(train_data):\n",
    "        one_hot_label = one_hot_enc(label, num_labels=10)\n",
    "        a1, z2, a2, z3, a3, z4, a4 = compute_forward_pass(input_, w1, w2, w3)\n",
    "        loss = compute_loss(a4, one_hot_label.float())\n",
    "        grad_1, grad_2, grad_3 = compute_backward_pass([w1, w2, w3], \n",
    "                                                       [a1, z2, a2, z3, a3, z4, a4], \n",
    "                                                       one_hot_label.float())\n",
    "        \n",
    "        delta_w1, delta_w2, delta_w3 = eta*grad_1, eta*grad_2, eta*grad_3\n",
    "        w1 -= delta_w1 + delta_w1_prev*alpha\n",
    "        w2 -= delta_w2 + delta_w2_prev*alpha\n",
    "        w3 -= delta_w3 + delta_w3_prev*alpha\n",
    "        \n",
    "        delta_w1_prev, delta_w2_prev, delta_w3_prev = delta_w1, delta_w2, delta_w3\n",
    "        \n",
    "        train_losses.append(loss)\n",
    "        predictions = predict(a4)\n",
    "        \n",
    "        wrong = torch.where(predictions!=label, torch.tensor([1.]), torch.tensor([0.]))\n",
    "        acc = 1 - torch.sum(wrong)/batch_size\n",
    "        train_acc.append(acc.float())\n",
    "    print('epoic', i, 'training accuracy %2f' %torch.mean(torch.tensor(train_acc)).item())"
   ]
  },
  {
   "cell_type": "code",
   "execution_count": 11,
   "metadata": {},
   "outputs": [
    {
     "data": {
      "image/png": "[encoded data removed]",
      "text/plain": [
       "<Figure size 432x288 with 2 Axes>"
      ]
     },
     "metadata": {
      "needs_background": "light"
     },
     "output_type": "display_data"
    }
   ],
   "source": [
    "fig = plt.figure()\n",
    "ax = fig.add_subplot(111, label='1')\n",
    "ax2 = fig.add_subplot(111, label='2', frame_on=False)\n",
    "ax.plot(train_losses, color='red')\n",
    "ax.set_xlabel('iterations')\n",
    "ax.set_ylabel('loss', color='red')\n",
    "ax.tick_params(axis='y', color='red')\n",
    "ax2.plot(train_acc, color='blue')\n",
    "ax2.yaxis.tick_right()\n",
    "ax2.set_ylabel('accuracy', color='blue')\n",
    "ax2.yaxis.set_label_position('right')\n",
    "ax2.tick_params(axis='y', color='blue')\n",
    "ax2.set_xticklabels([])\n",
    "plt.show()"
   ]
  },
  {
   "cell_type": "markdown",
   "metadata": {},
   "source": [
    "## Evaluate on test data"
   ]
  },
  {
   "cell_type": "code",
   "execution_count": 12,
   "metadata": {},
   "outputs": [
    {
     "name": "stdout",
     "output_type": "stream",
     "text": [
      "testing accuracy 0.989100\n"
     ]
    }
   ],
   "source": [
    "test_acc = []\n",
    "\n",
    "for j, (input_, label) in enumerate(test_data):\n",
    "    one_hot_label = one_hot_enc(label, num_labels=10)\n",
    "    a1, z2, a2, z3, a3, z4, a4 = compute_forward_pass(input_, w1, w2, w3)\n",
    "    loss = compute_loss(a4, one_hot_label.float())\n",
    "\n",
    "    predictions = predict(a4)\n",
    "    wrong = torch.where(predictions!=label, torch.tensor([1.]), torch.tensor([0.]))\n",
    "    acc = 1 - torch.sum(wrong)/batch_size\n",
    "    test_acc.append(acc.float())\n",
    "print('testing accuracy %2f' %torch.mean(torch.tensor(test_acc)).item())"
   ]
  },
  {
   "cell_type": "code",
   "execution_count": 22,
   "metadata": {},
   "outputs": [],
   "source": [
    "import numpy as np\n",
    "A = torch.tensor([[1, 2, 3], [4, 5, 6]])\n",
    "B = torch.tensor([7, 8, 9])"
   ]
  },
  {
   "cell_type": "code",
   "execution_count": 15,
   "metadata": {},
   "outputs": [
    {
     "data": {
      "text/plain": [
       "tensor([[1, 2, 3],\n",
       "        [4, 5, 6]], dtype=torch.int32)"
      ]
     },
     "execution_count": 15,
     "metadata": {},
     "output_type": "execute_result"
    }
   ],
   "source": [
    "A"
   ]
  },
  {
   "cell_type": "code",
   "execution_count": 16,
   "metadata": {},
   "outputs": [
    {
     "data": {
      "text/plain": [
       "tensor([7, 8, 9], dtype=torch.int32)"
      ]
     },
     "execution_count": 16,
     "metadata": {},
     "output_type": "execute_result"
    }
   ],
   "source": [
    "B"
   ]
  },
  {
   "cell_type": "code",
   "execution_count": 19,
   "metadata": {},
   "outputs": [
    {
     "data": {
      "text/plain": [
       "tensor([ 50, 122], dtype=torch.int32)"
      ]
     },
     "execution_count": 19,
     "metadata": {},
     "output_type": "execute_result"
    }
   ],
   "source": [
    "A.matmul(B)"
   ]
  }
 ],
 "metadata": {
  "kernelspec": {
   "display_name": "Python 3",
   "language": "python",
   "name": "python3"
  },
  "language_info": {
   "codemirror_mode": {
    "name": "ipython",
    "version": 3
   },
   "file_extension": ".py",
   "mimetype": "text/x-python",
   "name": "python",
   "nbconvert_exporter": "python",
   "pygments_lexer": "ipython3",
   "version": "3.7.6"
  }
 },
 "nbformat": 4,
 "nbformat_minor": 4
}
